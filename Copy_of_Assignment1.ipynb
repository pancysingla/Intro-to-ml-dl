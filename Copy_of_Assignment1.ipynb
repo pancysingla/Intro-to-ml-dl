{
  "nbformat": 4,
  "nbformat_minor": 0,
  "metadata": {
    "colab": {
      "name": "Copy of Assignment1.ipynb",
      "provenance": [],
      "collapsed_sections": [],
      "include_colab_link": true
    },
    "kernelspec": {
      "name": "python3",
      "display_name": "Python 3"
    },
    "language_info": {
      "name": "python"
    }
  },
  "cells": [
    {
      "cell_type": "markdown",
      "metadata": {
        "id": "view-in-github",
        "colab_type": "text"
      },
      "source": [
        "<a href=\"https://colab.research.google.com/github/pancysingla/Intro-to-ml-dl/blob/main/Copy_of_Assignment1.ipynb\" target=\"_parent\"><img src=\"https://colab.research.google.com/assets/colab-badge.svg\" alt=\"Open In Colab\"/></a>"
      ]
    },
    {
      "cell_type": "markdown",
      "source": [
        "# Hello ! "
      ],
      "metadata": {
        "id": "DfJoXzxlSYZM"
      }
    },
    {
      "cell_type": "markdown",
      "source": [
        "### This is our first Assignment! Feel free to google !"
      ],
      "metadata": {
        "id": "nRsC4zkEScEE"
      }
    },
    {
      "cell_type": "markdown",
      "source": [
        "####1. New line New sentence"
      ],
      "metadata": {
        "id": "kJj715gSYdaT"
      }
    },
    {
      "cell_type": "code",
      "source": [
        "message =\"\"\"Lorem ipsum dolor sit amet. Est soluta mollitia ex nesciunt corporis in natus nisi? Aut saepe consequatur est aliquid itaque sed natus culpa et saepe ducimus et praesentium cumque non voluptatem quod. Ex officiis dolor ab exercitationem impedit et dolores laborum.\n",
        "\n",
        "Sit molestiae minus et itaque voluptatum sed minima laboriosam eos voluptate quod ab sapiente sint. Ut incidunt galisum est quia veritatis ex fugiat voluptas qui doloribus galisum.\n",
        "\n",
        "Est delectus totam ut accusantium doloribus non necessitatibus omnis nam ullam tenetur aut aliquid atque est porro voluptate! Ut maxime maiores id internos numquam cum tempora atque.\"\"\"\n",
        "\n",
        "\n",
        "\n",
        "\n",
        "\n",
        "\n",
        "# this is a way of writing multi-line strings in python, This is very helpful while documenting your project! read more about docstrings here - https://pandas.pydata.org/docs/development/contributing_docstring.html\n",
        "\n",
        "\n",
        "#above text is generated with the help of this website - https://www.loremipzum.com/en/text-generator\n",
        "\n"
      ],
      "metadata": {
        "id": "7NJ9BhFQSv7M"
      },
      "execution_count": null,
      "outputs": []
    },
    {
      "cell_type": "code",
      "source": [
        ""
      ],
      "metadata": {
        "id": "s9SBsevtUW-h"
      },
      "execution_count": null,
      "outputs": []
    },
    {
      "cell_type": "code",
      "source": [
        "\n",
        "# your task is to print every new statement in new line  \n",
        "# write your code in next block! ideal answer is provided here! "
      ],
      "metadata": {
        "id": "sVuQQrfAT3Pp",
        "colab": {
          "base_uri": "https://localhost:8080/"
        },
        "outputId": "344083b8-6a73-4b49-d760-1549b445710f"
      },
      "execution_count": null,
      "outputs": [
        {
          "output_type": "stream",
          "name": "stdout",
          "text": [
            "Lorem ipsum dolor sit amet.\n",
            "Est soluta mollitia ex nesciunt corporis in natus nisi? Aut saepe consequatur est aliquid itaque sed natus culpa et saepe ducimus et praesentium cumque non voluptatem quod.\n",
            "Ex officiis dolor ab exercitationem impedit et dolores laborum.\n",
            "Sit molestiae minus et itaque voluptatum sed minima laboriosam eos voluptate quod ab sapiente sint.\n",
            "Ut incidunt galisum est quia veritatis ex fugiat voluptas qui doloribus galisum.\n",
            "Est delectus totam ut accusantium doloribus non necessitatibus omnis nam ullam tenetur aut aliquid atque est porro voluptate! Ut maxime maiores id internos numquam cum tempora atque.\n"
          ]
        }
      ]
    },
    {
      "cell_type": "code",
      "source": [
        "text = \"\"\"Lorem ipsum dolor sit amet. Est soluta mollitia ex nesciunt corporis in natus nisi? Aut saepe consequatur est aliquid itaque sed natus culpa et saepe ducimus et praesentium cumque non voluptatem quod. Ex officiis dolor ab exercitationem impedit et dolores laborum. Sit molestiae minus et itaque voluptatum sed minima laboriosam eos voluptate quod ab sapiente sint. Ut incidunt galisum est quia veritatis ex fugiat voluptas qui doloribus galisum. Est delectus totam ut accusantium doloribus non necessitatibus omnis nam ullam tenetur aut aliquid atque est porro voluptate! Ut maxime maiores id internos numquam cum tempora atque.\"\"\"\n",
        "a = text.replace('. ','.\\n')\n",
        "print(a)\n"
      ],
      "metadata": {
        "id": "NRM2B-XjXCBC",
        "colab": {
          "base_uri": "https://localhost:8080/"
        },
        "outputId": "b7f1c809-64c0-4045-c060-d66f76d6a937"
      },
      "execution_count": 37,
      "outputs": [
        {
          "output_type": "stream",
          "name": "stdout",
          "text": [
            "Lorem ipsum dolor sit amet.\n",
            "Est soluta mollitia ex nesciunt corporis in natus nisi? Aut saepe consequatur est aliquid itaque sed natus culpa et saepe ducimus et praesentium cumque non voluptatem quod.\n",
            "Ex officiis dolor ab exercitationem impedit et dolores laborum.\n",
            "Sit molestiae minus et itaque voluptatum sed minima laboriosam eos voluptate quod ab sapiente sint.\n",
            "Ut incidunt galisum est quia veritatis ex fugiat voluptas qui doloribus galisum.\n",
            "Est delectus totam ut accusantium doloribus non necessitatibus omnis nam ullam tenetur aut aliquid atque est porro voluptate! Ut maxime maiores id internos numquam cum tempora atque.\n"
          ]
        }
      ]
    },
    {
      "cell_type": "markdown",
      "source": [
        "####2. Inputs from a file \n"
      ],
      "metadata": {
        "id": "yAG9Z-dMXTqn"
      }
    },
    {
      "cell_type": "markdown",
      "source": [
        "Suppose you are working for an email spamming company (we dont know much about the buiseness model of the company) and you are given a text file with names and email addresses \n",
        "\n",
        "What you have to do? - Create a mapping of name --> email, Basically a dictionary! \n",
        "\n"
      ],
      "metadata": {
        "id": "Xignt0POk4IN"
      }
    },
    {
      "cell_type": "markdown",
      "source": [
        "How will you find names in the given text file? names are enclosed between single quotes. Name and its corresponding email are in single line, so work with a single line at a time 😉"
      ],
      "metadata": {
        "id": "2b7jBhpOqRVo"
      }
    },
    {
      "cell_type": "code",
      "source": [
        "#####common FAQs - \n",
        "\n",
        "# How to load text file in google colab? - You can upload files to colab session - something like this - https://youtu.be/6HFlwqK3oeo?t=174\n",
        "# How to read read content in the text file with python - https://bit.ly/36FsRWC \n",
        "# if google doesnt give satisfactory answers to your questions; feel free to pm to any mentors\n",
        "\n",
        "\n",
        "#some more info about data \n",
        "# there are 995 lines in the text file; \n",
        "#format for a line is -  Name of the person is -- `<name>` You need to spam this email id - <email id>\n"
      ],
      "metadata": {
        "id": "hlp6r-cjrVcI"
      },
      "execution_count": null,
      "outputs": []
    },
    {
      "cell_type": "code",
      "source": [
        "#write your code here!.\n",
        "dictionary = {}\n",
        "with open('Document.txt') as f:\n",
        "  for line in f:\n",
        "    (key, value) = line.split()\n",
        "    dictionary[str(key)] = value\n",
        "print ('\\ntext file to dictionary=\\n',dictionary)\n",
        "    \n",
        "    \n"
      ],
      "metadata": {
        "id": "n2FfhzIs8bZN",
        "colab": {
          "base_uri": "https://localhost:8080/"
        },
        "outputId": "a7f61f5c-efdd-47e7-bbc8-cd6b82146191"
      },
      "execution_count": 36,
      "outputs": [
        {
          "output_type": "stream",
          "name": "stdout",
          "text": [
            "\n",
            "text file to dictionary=\n",
            " {\"'Michael'\": 'magusnet@aol.com', \"'Christopher'\": 'chris@icloud.com', \"'Jessica'\": 'kiljess@comcast.net', \"'Matthew'\": 'matt@gmail.com', \"'Ashley'\": 'mcnihil@aol.com', \"'Jennifer'\": 'jenny@yahoo.ca', \"'Joshua'\": 'joshua11@outlook.com', \"'Amanda'\": 'amanda@sbcglobal.net', \"'Daniel'\": 'geekgrl@sbcglobal.net', \"'David'\": 'david@yahoo.com'}\n"
          ]
        }
      ]
    },
    {
      "cell_type": "markdown",
      "source": [
        "####3. Print a pattern"
      ],
      "metadata": {
        "id": "e6kZPGYKr5Zz"
      }
    },
    {
      "cell_type": "code",
      "source": [
        "# try printing this pattern \n",
        "#write code in the next cell\n",
        "# pro-tip === use   `nested for loops` "
      ],
      "metadata": {
        "colab": {
          "base_uri": "https://localhost:8080/"
        },
        "id": "qkyzwej0sLm6",
        "outputId": "321ea6e8-9bd9-4ed6-e377-220bac853314"
      },
      "execution_count": null,
      "outputs": [
        {
          "output_type": "stream",
          "name": "stdout",
          "text": [
            "* * * * * * * \n",
            "* * * * * * \n",
            "* * * * * \n",
            "* * * * \n",
            "* * * \n",
            "* * \n",
            "* \n"
          ]
        }
      ]
    },
    {
      "cell_type": "code",
      "source": [
        "#write code for above pattern here! \n",
        "for i in range(7,0,-1):\n",
        "  for j in range(i,0,-1):\n",
        "    print('* ',end='')\n",
        "  print('')\n",
        "\n"
      ],
      "metadata": {
        "id": "wpj3x2NKsR_U",
        "colab": {
          "base_uri": "https://localhost:8080/"
        },
        "outputId": "88942dd5-1f38-4573-b53f-2b1ca8bcb10b"
      },
      "execution_count": null,
      "outputs": [
        {
          "output_type": "stream",
          "name": "stdout",
          "text": [
            "* * * * * * * \n",
            "* * * * * * \n",
            "* * * * * \n",
            "* * * * \n",
            "* * * \n",
            "* * \n",
            "* \n"
          ]
        }
      ]
    },
    {
      "cell_type": "code",
      "source": [
        "# try printing this pattern \n",
        "#write code in the next cell"
      ],
      "metadata": {
        "colab": {
          "base_uri": "https://localhost:8080/"
        },
        "id": "KXTpda4jsmwn",
        "outputId": "ee63e921-02b1-4429-fc04-8c57874544f1"
      },
      "execution_count": null,
      "outputs": [
        {
          "output_type": "stream",
          "name": "stdout",
          "text": [
            "\n",
            "* \n",
            "* * \n",
            "* * * \n",
            "* * * * \n",
            "* * * * * \n",
            "* * * * * * \n"
          ]
        }
      ]
    },
    {
      "cell_type": "code",
      "source": [
        "#write code for above pattern here!\n",
        "for i in range(0,7,+1):\n",
        "  for j in range(0,i,+1):\n",
        "    print('* ',end='')\n",
        "  print('')"
      ],
      "metadata": {
        "id": "93JoXYgCs6kc",
        "colab": {
          "base_uri": "https://localhost:8080/"
        },
        "outputId": "e96fac94-6ef2-4171-e5f3-6958cd5e40fb"
      },
      "execution_count": null,
      "outputs": [
        {
          "output_type": "stream",
          "name": "stdout",
          "text": [
            "\n",
            "* \n",
            "* * \n",
            "* * * \n",
            "* * * * \n",
            "* * * * * \n",
            "* * * * * * \n"
          ]
        }
      ]
    },
    {
      "cell_type": "code",
      "source": [
        ""
      ],
      "metadata": {
        "colab": {
          "base_uri": "https://localhost:8080/"
        },
        "id": "n7izMlmGtLDw",
        "outputId": "80eda4b9-b61f-4376-dcf9-0db8fefc4c69"
      },
      "execution_count": null,
      "outputs": [
        {
          "output_type": "stream",
          "name": "stdout",
          "text": [
            "\n",
            " \n",
            " * \n",
            " * ** \n",
            " * ** *** \n",
            " * ** *** **** \n",
            " * ** *** **** ***** \n"
          ]
        }
      ]
    },
    {
      "cell_type": "code",
      "source": [
        "for i in range(0,7,+1):\n",
        "  for j in range(0,i,+1):\n",
        "    print('*'*j,end=' ')\n",
        "  print('')"
      ],
      "metadata": {
        "id": "ntsQl-dbtiox",
        "colab": {
          "base_uri": "https://localhost:8080/"
        },
        "outputId": "f906c1f1-3615-485b-88d3-0ef46a16cde5"
      },
      "execution_count": 8,
      "outputs": [
        {
          "output_type": "stream",
          "name": "stdout",
          "text": [
            "\n",
            " \n",
            " * \n",
            " * ** \n",
            " * ** *** \n",
            " * ** *** **** \n",
            " * ** *** **** ***** \n"
          ]
        }
      ]
    },
    {
      "cell_type": "markdown",
      "source": [
        "####4. Occurance of a number "
      ],
      "metadata": {
        "id": "GloSj8Dr2WBm"
      }
    },
    {
      "cell_type": "markdown",
      "source": [
        "There is a one list which contains different datatypes. Your task is to make a dictionary which keeps the record of how many times a integer has occured. \n",
        "\n",
        "for e.g. if the given list is like following - \n",
        "\n",
        "```\n",
        "[2,5,2,1,0,4,5,2.4,3.5,]\n",
        "```\n",
        "\n",
        "the expected dictionary is -\n",
        "```\n",
        "{0: 1, 1: 4, 2: 3, 5: 2} #we are not considering other datatypes, only integer datatypes are being considered for dictionary. \n",
        "```"
      ],
      "metadata": {
        "id": "Nb2dP34U2atS"
      }
    },
    {
      "cell_type": "code",
      "source": [
        "object_list = [True, False, 'A', 0,1,3,\"bits pilani k k birla goa campus\", 23,1,0,5,30,123,2,9,2e-3,]"
      ],
      "metadata": {
        "id": "Q6Zzv1tp3Jjx"
      },
      "execution_count": null,
      "outputs": []
    },
    {
      "cell_type": "code",
      "source": [
        "#write your code here.\n",
        "a = {}\n",
        "for i in object_list:\n",
        "  if type(i) is int:\n",
        "    if i in a.keys():\n",
        "      a[i] = a[i]+1\n",
        "    else:\n",
        "      a[i] = 1\n",
        "print(a)\n"
      ],
      "metadata": {
        "id": "6Iu2QU0C4oBM",
        "colab": {
          "base_uri": "https://localhost:8080/"
        },
        "outputId": "2f0c3c9d-4045-4e4d-a659-6f65fc5ab2f3"
      },
      "execution_count": null,
      "outputs": [
        {
          "output_type": "stream",
          "name": "stdout",
          "text": [
            "{0: 2, 1: 2, 3: 1, 23: 1, 5: 1, 30: 1, 123: 1, 2: 1, 9: 1}\n"
          ]
        }
      ]
    },
    {
      "cell_type": "code",
      "source": [
        ""
      ],
      "metadata": {
        "id": "qFmPY5RB3MHN"
      },
      "execution_count": null,
      "outputs": []
    },
    {
      "cell_type": "code",
      "source": [
        ""
      ],
      "metadata": {
        "id": "zR7A17-v3TzR"
      },
      "execution_count": null,
      "outputs": []
    },
    {
      "cell_type": "code",
      "source": [
        ""
      ],
      "metadata": {
        "id": "cFbf3cDe3dT4"
      },
      "execution_count": null,
      "outputs": []
    }
  ]
}